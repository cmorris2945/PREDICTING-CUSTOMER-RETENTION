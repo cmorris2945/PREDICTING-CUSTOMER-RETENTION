{
  "nbformat": 4,
  "nbformat_minor": 0,
  "metadata": {
    "kernelspec": {
      "display_name": "Python 3",
      "language": "python",
      "name": "python3"
    },
    "language_info": {
      "codemirror_mode": {
        "name": "ipython",
        "version": 3
      },
      "file_extension": ".py",
      "mimetype": "text/x-python",
      "name": "python",
      "nbconvert_exporter": "python",
      "pygments_lexer": "ipython3",
      "version": "3.6.1"
    },
    "colab": {
      "name": "Chapter 2 String Manipulation - Assignment .ipynb",
      "provenance": [],
      "collapsed_sections": [],
      "include_colab_link": true
    }
  },
  "cells": [
    {
      "cell_type": "markdown",
      "metadata": {
        "id": "view-in-github",
        "colab_type": "text"
      },
      "source": [
        "<a href=\"https://colab.research.google.com/github/cmorris2945/PREDICTING-CUSTOMER-RETENTION/blob/master/Chapter_2_String_Manipulation_Assignment_.ipynb\" target=\"_parent\"><img src=\"https://colab.research.google.com/assets/colab-badge.svg\" alt=\"Open In Colab\"/></a>"
      ]
    },
    {
      "cell_type": "markdown",
      "metadata": {
        "id": "Xib4fpbcsVlp"
      },
      "source": [
        "<img src=\"https://www.digitalvidya.com/wp-content/uploads/2013/05/Digital-Vidya-Website-Logo-HD-2-300x95.png\">"
      ]
    },
    {
      "cell_type": "markdown",
      "metadata": {
        "id": "7O9byXHPsVlr"
      },
      "source": [
        "# Creating string\n",
        "\n",
        "Lets begin with simple quote\n",
        "\n",
        "\"Success is not final, failure is not fatal: it is the courage to continue that counts.\""
      ]
    },
    {
      "cell_type": "markdown",
      "metadata": {
        "id": "xFx8I1rYsVls"
      },
      "source": [
        "**Q.1 Print the above quote**"
      ]
    },
    {
      "cell_type": "code",
      "metadata": {
        "collapsed": true,
        "colab": {
          "base_uri": "https://localhost:8080/"
        },
        "id": "ZBC3VtyPsVls",
        "outputId": "311234a5-329a-42ac-edf4-66b1a3f1e390"
      },
      "source": [
        "## START CODE HERE\n",
        "print(\"Success is not final, failure is not fatal: it is the courage to continue that counts.\")\n",
        "\n",
        "## END CODE HERE"
      ],
      "execution_count": 1,
      "outputs": [
        {
          "output_type": "stream",
          "text": [
            "Success is not final, failure is not fatal: it is the courage to continue that counts.\n"
          ],
          "name": "stdout"
        }
      ]
    },
    {
      "cell_type": "markdown",
      "metadata": {
        "id": "1KEUd_OlsVlt"
      },
      "source": [
        "\n",
        "<table>\n",
        "  <tr>\n",
        "  <td>**Expected Output:**<td>\n",
        "    <td>Success is not final, failure is not fatal: it is the courage to continue that counts.</td>\n",
        "  </tr>\n",
        "</table>\n",
        "    "
      ]
    },
    {
      "cell_type": "markdown",
      "metadata": {
        "id": "B8n7TAAVsVlt"
      },
      "source": [
        "**Q.2 Create a string - I'll have coffee **\n",
        "<br>TIP - Use the right quotes so that it will print the apostrophe correctly. (Keep the exception or error in mind)\n",
        "\n",
        "By the way, exception in object oriented programming means Errors detected during execution are called exceptions and are not unconditionally fatal.\n",
        "<br> For further info : https://docs.python.org/3/tutorial/errors.html\n",
        "<br> Its fine if you can't understand this right now you will learn Exception handling later."
      ]
    },
    {
      "cell_type": "code",
      "metadata": {
        "collapsed": true,
        "colab": {
          "base_uri": "https://localhost:8080/"
        },
        "id": "K2ZhRTKRsVlu",
        "outputId": "98d35f9d-2a9b-49e8-91f3-438351276808"
      },
      "source": [
        "## START CODE HERE\n",
        "s = \"I'll have coffee\"\n",
        "print(s)\n",
        "\n",
        "## END CODE HERE"
      ],
      "execution_count": 3,
      "outputs": [
        {
          "output_type": "stream",
          "text": [
            "I'll have coffee\n"
          ],
          "name": "stdout"
        }
      ]
    },
    {
      "cell_type": "markdown",
      "metadata": {
        "id": "Gqp3xAYhsVlu"
      },
      "source": [
        "<table>\n",
        "  \n",
        "  <tr>\n",
        "    <td>**Expected Output:**<td>\n",
        "    <td>I'll have coffee</td>\n",
        "  </tr>\n",
        "</table>\n",
        "    "
      ]
    },
    {
      "cell_type": "markdown",
      "metadata": {
        "id": "Uw9XIYASsVlu"
      },
      "source": [
        "# String Indexing"
      ]
    },
    {
      "cell_type": "markdown",
      "metadata": {
        "collapsed": true,
        "id": "m1ItEMlRsVlv"
      },
      "source": [
        "We have created a string variable 's' for you"
      ]
    },
    {
      "cell_type": "code",
      "metadata": {
        "colab": {
          "base_uri": "https://localhost:8080/",
          "height": 35
        },
        "id": "qB8IMcmksVlv",
        "outputId": "b8b9c930-e691-403f-a60d-510eb60fe9bf"
      },
      "source": [
        "s = \"Welcome to Digital Vidya\"\n",
        "s"
      ],
      "execution_count": 4,
      "outputs": [
        {
          "output_type": "execute_result",
          "data": {
            "application/vnd.google.colaboratory.intrinsic+json": {
              "type": "string"
            },
            "text/plain": [
              "'Welcome to Digital Vidya'"
            ]
          },
          "metadata": {
            "tags": []
          },
          "execution_count": 4
        }
      ]
    },
    {
      "cell_type": "markdown",
      "metadata": {
        "id": "BMdeBtzLsVlw"
      },
      "source": [
        "**Q.3 Print first character (There's something special about indexing in Python)**"
      ]
    },
    {
      "cell_type": "code",
      "metadata": {
        "collapsed": true,
        "colab": {
          "base_uri": "https://localhost:8080/",
          "height": 35
        },
        "id": "MeO5hehUsVlw",
        "outputId": "334509e8-17a2-45a6-9a87-c6d49ca23848"
      },
      "source": [
        "## START CODE HERE\n",
        "a = \"There's something special about indexing in Python\"\n",
        "\n",
        "a[0]\n",
        "## END CODE HERE"
      ],
      "execution_count": 6,
      "outputs": [
        {
          "output_type": "execute_result",
          "data": {
            "application/vnd.google.colaboratory.intrinsic+json": {
              "type": "string"
            },
            "text/plain": [
              "'T'"
            ]
          },
          "metadata": {
            "tags": []
          },
          "execution_count": 6
        }
      ]
    },
    {
      "cell_type": "markdown",
      "metadata": {
        "id": "ZayIM0v6sVlw"
      },
      "source": [
        "\n",
        "       \n",
        "<table>\n",
        "  \n",
        "  <tr>\n",
        "    <td>**Expected Output:**<td>\n",
        "    <td>W</td>\n",
        "  </tr>\n",
        "</table>\n",
        "    "
      ]
    },
    {
      "cell_type": "markdown",
      "metadata": {
        "id": "Q8SidizMsVlw"
      },
      "source": [
        "**Q.4 Print the last character using forward index**"
      ]
    },
    {
      "cell_type": "code",
      "metadata": {
        "collapsed": true,
        "colab": {
          "base_uri": "https://localhost:8080/",
          "height": 35
        },
        "id": "7B1LLi3FsVlx",
        "outputId": "cc524c44-5705-4f55-a314-87310b914604"
      },
      "source": [
        "## START CODE HERE\n",
        "a[-1]\n",
        "\n",
        "## END CODE HERE"
      ],
      "execution_count": 7,
      "outputs": [
        {
          "output_type": "execute_result",
          "data": {
            "application/vnd.google.colaboratory.intrinsic+json": {
              "type": "string"
            },
            "text/plain": [
              "'n'"
            ]
          },
          "metadata": {
            "tags": []
          },
          "execution_count": 7
        }
      ]
    },
    {
      "cell_type": "markdown",
      "metadata": {
        "id": "re7N9yOosVlx"
      },
      "source": [
        "\n",
        "       \n",
        "<table>\n",
        "  \n",
        "  <tr>\n",
        "    <td>**Expected Output:**<td>\n",
        "    <td>a</td>\n",
        "  </tr>\n",
        "</table>\n",
        "    "
      ]
    },
    {
      "cell_type": "markdown",
      "metadata": {
        "id": "pm4_ACIHsVlx"
      },
      "source": [
        "**Q.5 Print the second last character using backward index**"
      ]
    },
    {
      "cell_type": "code",
      "metadata": {
        "collapsed": true,
        "colab": {
          "base_uri": "https://localhost:8080/",
          "height": 35
        },
        "id": "N4I9dcIKsVlx",
        "outputId": "6c173959-d20b-4a73-c862-227b44029b6e"
      },
      "source": [
        "## START CODE HERE\n",
        "a[len(a)-2]\n",
        "\n",
        "## END CODE HERE"
      ],
      "execution_count": 8,
      "outputs": [
        {
          "output_type": "execute_result",
          "data": {
            "application/vnd.google.colaboratory.intrinsic+json": {
              "type": "string"
            },
            "text/plain": [
              "'o'"
            ]
          },
          "metadata": {
            "tags": []
          },
          "execution_count": 8
        }
      ]
    },
    {
      "cell_type": "markdown",
      "metadata": {
        "id": "tEKWP50HsVly"
      },
      "source": [
        "\n",
        "       \n",
        "<table>\n",
        "  \n",
        "  <tr>\n",
        "    <td>**Expected Output:**<td>\n",
        "    <td>y</td>\n",
        "  </tr>\n",
        "</table>\n",
        "    "
      ]
    },
    {
      "cell_type": "markdown",
      "metadata": {
        "id": "Gm8iGPYSsVly"
      },
      "source": [
        "**Q.6 Print alternating characters in s starting from first character (Skip one character at a time)**"
      ]
    },
    {
      "cell_type": "code",
      "metadata": {
        "collapsed": true,
        "colab": {
          "base_uri": "https://localhost:8080/",
          "height": 35
        },
        "id": "N2CwHHdrsVly",
        "outputId": "2aaf4115-bb4b-471d-9ac0-faf119a856eb"
      },
      "source": [
        "## START CODE HERE\n",
        "\n",
        "a[::2]\n",
        "## END CODE HERE"
      ],
      "execution_count": 9,
      "outputs": [
        {
          "output_type": "execute_result",
          "data": {
            "application/vnd.google.colaboratory.intrinsic+json": {
              "type": "string"
            },
            "text/plain": [
              "'Teessmtigseilaotidxn nPto'"
            ]
          },
          "metadata": {
            "tags": []
          },
          "execution_count": 9
        }
      ]
    },
    {
      "cell_type": "markdown",
      "metadata": {
        "id": "cL6sfXawsVly"
      },
      "source": [
        "\n",
        "       \n",
        "<table>\n",
        "  \n",
        "  <tr>\n",
        "    <td>**Expected Output:**<td>\n",
        "    <td>Wloet iia iy</td>\n",
        "  </tr>\n",
        "</table>\n",
        "    "
      ]
    },
    {
      "cell_type": "markdown",
      "metadata": {
        "id": "VLUET-ersVlz"
      },
      "source": [
        "**Q.7 Print s in reverse**"
      ]
    },
    {
      "cell_type": "code",
      "metadata": {
        "collapsed": true,
        "colab": {
          "base_uri": "https://localhost:8080/",
          "height": 35
        },
        "id": "4NXTGY1gsVlz",
        "outputId": "2395ec4e-05f7-4f7b-ae6d-61ab05512c1d"
      },
      "source": [
        "## START CODE HERE\n",
        "\n",
        "s[::-1]\n",
        "## END CODE HERE"
      ],
      "execution_count": 10,
      "outputs": [
        {
          "output_type": "execute_result",
          "data": {
            "application/vnd.google.colaboratory.intrinsic+json": {
              "type": "string"
            },
            "text/plain": [
              "'aydiV latigiD ot emocleW'"
            ]
          },
          "metadata": {
            "tags": []
          },
          "execution_count": 10
        }
      ]
    },
    {
      "cell_type": "markdown",
      "metadata": {
        "id": "dQDGzMkvsVlz"
      },
      "source": [
        "\n",
        "       \n",
        "<table>\n",
        "  \n",
        "  <tr>\n",
        "    <td>**Expected Output:**<td>\n",
        "    <td>aydiV latigiD ot emocleW</td>\n",
        "  </tr>\n",
        "</table>\n",
        "    "
      ]
    },
    {
      "cell_type": "markdown",
      "metadata": {
        "id": "1IuBzaddsVlz"
      },
      "source": [
        "# String Properties"
      ]
    },
    {
      "cell_type": "code",
      "metadata": {
        "colab": {
          "base_uri": "https://localhost:8080/",
          "height": 35
        },
        "id": "Sm5osoEYsVl0",
        "outputId": "331f3a6f-21b1-4edc-c312-b8d9b4b51ee3"
      },
      "source": [
        "s = 'Welcome to Digital Vidya'\n",
        "s"
      ],
      "execution_count": 11,
      "outputs": [
        {
          "output_type": "execute_result",
          "data": {
            "application/vnd.google.colaboratory.intrinsic+json": {
              "type": "string"
            },
            "text/plain": [
              "'Welcome to Digital Vidya'"
            ]
          },
          "metadata": {
            "tags": []
          },
          "execution_count": 11
        }
      ]
    },
    {
      "cell_type": "markdown",
      "metadata": {
        "id": "hAvItzDmsVl0"
      },
      "source": [
        "**Q.8 Change s to \"Welcome to Digital Vidya, this is your week 2 assignment\" and print s**"
      ]
    },
    {
      "cell_type": "code",
      "metadata": {
        "collapsed": true,
        "id": "7VSuQYVYsVl0"
      },
      "source": [
        "## START CODE HERE\n",
        "\n",
        "\n",
        "## END CODE HERE"
      ],
      "execution_count": null,
      "outputs": []
    },
    {
      "cell_type": "markdown",
      "metadata": {
        "id": "Wnu0xsyvsVl0"
      },
      "source": [
        "<table>\n",
        "  \n",
        "  <tr>\n",
        "    <td>**Expected Output:**<td>\n",
        "    <td>Welcome to Digital Vidya, this is your week 2 assignment</td>\n",
        "  </tr>\n",
        "</table>\n",
        "    "
      ]
    },
    {
      "cell_type": "markdown",
      "metadata": {
        "id": "VrXAB_yrsVl1"
      },
      "source": [
        "# String Methods"
      ]
    },
    {
      "cell_type": "code",
      "metadata": {
        "colab": {
          "base_uri": "https://localhost:8080/",
          "height": 35
        },
        "id": "QCzvCN8lsVl1",
        "outputId": "59fb391f-80dd-4eaa-e35e-fb985526f851"
      },
      "source": [
        "s = \"Welcome to Digital Vidya, this is your week 2 assignment\"\n",
        "\n",
        "s"
      ],
      "execution_count": 12,
      "outputs": [
        {
          "output_type": "execute_result",
          "data": {
            "application/vnd.google.colaboratory.intrinsic+json": {
              "type": "string"
            },
            "text/plain": [
              "'Welcome to Digital Vidya, this is your week 2 assignment'"
            ]
          },
          "metadata": {
            "tags": []
          },
          "execution_count": 12
        }
      ]
    },
    {
      "cell_type": "markdown",
      "metadata": {
        "id": "A2QL6JktsVl1"
      },
      "source": [
        "**Q.9 Convert complete string to UPPER case and print the resultant string**"
      ]
    },
    {
      "cell_type": "code",
      "metadata": {
        "collapsed": true,
        "colab": {
          "base_uri": "https://localhost:8080/"
        },
        "id": "bYbeHeYBsVl1",
        "outputId": "f1a1a555-0422-4472-9655-a514432513a3"
      },
      "source": [
        "## START CODE HERE\n",
        "print(s.upper())\n",
        "\n",
        "## END CODE HERE"
      ],
      "execution_count": 13,
      "outputs": [
        {
          "output_type": "stream",
          "text": [
            "WELCOME TO DIGITAL VIDYA, THIS IS YOUR WEEK 2 ASSIGNMENT\n"
          ],
          "name": "stdout"
        }
      ]
    },
    {
      "cell_type": "markdown",
      "metadata": {
        "id": "SPI0RGpSsVl2"
      },
      "source": [
        "<table>\n",
        "  \n",
        "  <tr>\n",
        "    <td>**Expected Output:**<td>\n",
        "    <td>WELCOME TO DIGITAL VIDYA, THIS IS YOUR WEEK 2 ASSIGNMENT</td>\n",
        "  </tr>\n",
        "</table>\n",
        "    "
      ]
    },
    {
      "cell_type": "markdown",
      "metadata": {
        "id": "2NSYUlnvsVl2"
      },
      "source": [
        "**Q.10 Convert complete string to lower case and print the resultant string**"
      ]
    },
    {
      "cell_type": "code",
      "metadata": {
        "collapsed": true,
        "colab": {
          "base_uri": "https://localhost:8080/"
        },
        "id": "yUKVuvmtsVl3",
        "outputId": "76a70a8c-1986-4af5-885a-8107f59e4bf4"
      },
      "source": [
        "## START CODE HERE\n",
        "print(s.lower())\n",
        "\n",
        "## END CODE HERE"
      ],
      "execution_count": 14,
      "outputs": [
        {
          "output_type": "stream",
          "text": [
            "welcome to digital vidya, this is your week 2 assignment\n"
          ],
          "name": "stdout"
        }
      ]
    },
    {
      "cell_type": "markdown",
      "metadata": {
        "id": "nphR_C-0sVl3"
      },
      "source": [
        "\n",
        "       \n",
        "<table>\n",
        "  \n",
        "  <tr>\n",
        "    <td>**Expected Output:**<td>\n",
        "    <td>welcome to digital vidya, this is your week 2 assignment</td>\n",
        "  </tr>\n",
        "</table>\n",
        "    "
      ]
    },
    {
      "cell_type": "markdown",
      "metadata": {
        "id": "FDZdlUhdsVl3"
      },
      "source": [
        "**Q.11 What is the length of s?**"
      ]
    },
    {
      "cell_type": "code",
      "metadata": {
        "collapsed": true,
        "colab": {
          "base_uri": "https://localhost:8080/"
        },
        "id": "W0hAs_TcsVl4",
        "outputId": "47c7172c-16a8-4c80-cd9c-d906c3c86778"
      },
      "source": [
        "## START CODE HERE\n",
        "\n",
        "print(len(s))\n",
        "## END CODE HERE"
      ],
      "execution_count": 15,
      "outputs": [
        {
          "output_type": "stream",
          "text": [
            "56\n"
          ],
          "name": "stdout"
        }
      ]
    },
    {
      "cell_type": "markdown",
      "metadata": {
        "id": "I4k1XuSbsVl4"
      },
      "source": [
        "<table>\n",
        "  \n",
        "  <tr>\n",
        "    <td>**Expected Output:**<td>\n",
        "    <td>56</td>\n",
        "  </tr>\n",
        "</table>  "
      ]
    },
    {
      "cell_type": "markdown",
      "metadata": {
        "id": "DpcSMvObsVl4"
      },
      "source": [
        "**Q.12 Split the sentence \"Welcome to Digital Vidya, this is your week 2 assignment\" at the ',' using appropriate method and print the output.**"
      ]
    },
    {
      "cell_type": "code",
      "metadata": {
        "collapsed": true,
        "colab": {
          "base_uri": "https://localhost:8080/"
        },
        "id": "T1fPasoBsVl4",
        "outputId": "40690496-3cc9-4e7b-93b7-36a693974a02"
      },
      "source": [
        "## START CODE HERE\n",
        "sen = \"Welcome to Digital Vidya, this is your week 2 assignment\"\n",
        "\n",
        "print(sen.split(','))\n",
        "\n",
        "## END CODE HERE"
      ],
      "execution_count": 16,
      "outputs": [
        {
          "output_type": "stream",
          "text": [
            "['Welcome to Digital Vidya', ' this is your week 2 assignment']\n"
          ],
          "name": "stdout"
        }
      ]
    },
    {
      "cell_type": "code",
      "metadata": {
        "id": "ev2Wh9pHvesB"
      },
      "source": [
        "\n"
      ],
      "execution_count": 27,
      "outputs": []
    },
    {
      "cell_type": "markdown",
      "metadata": {
        "id": "S9svxd6psVl5"
      },
      "source": [
        "<table>\n",
        "  <tr>\n",
        "    <td>**Expected Output:**<td>\n",
        "    <td>['Welcome to Digital Vidya', ' this is your week 2 assignment']</td>\n",
        "  </tr>\n",
        "</table>\n",
        "    "
      ]
    },
    {
      "cell_type": "code",
      "metadata": {
        "id": "WBQcFpoTxYXR"
      },
      "source": [
        "\n",
        "from google.colab import drive\n",
        "drive.mount('/content/drive')"
      ],
      "execution_count": null,
      "outputs": []
    },
    {
      "cell_type": "markdown",
      "metadata": {
        "id": "ucmanCp7sVl5"
      },
      "source": [
        "# Congratulations\n",
        "\n",
        "You are through the second assignment of the Basic Python Programming Course.\n",
        "<br>Good understanding of String datatype will help you a lot in your data science career.\n",
        "<br>Further in the course we'll try to enhance your knowledge and understanding of strings by introducing regular expressions and other advanced concepts.\n",
        "<br>Buckle up!\n",
        "<br>You are doing very well.\n",
        "<br>See you in the next chapter."
      ]
    }
  ]
}